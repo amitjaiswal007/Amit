{
 "cells": [
  {
   "cell_type": "code",
   "execution_count": 66,
   "metadata": {},
   "outputs": [],
   "source": [
    "import pandas as pd\n",
    "from sklearn.tree import DecisionTreeClassifier\n",
    "from sklearn.model_selection import train_test_split\n",
    "from sklearn.ensemble import BaggingClassifier\n",
    "import matplotlib.pyplot as plt\n",
    "from mlxtend.plotting import plot_learning_curves\n",
    "from mlxtend.evaluate import paired_ttest_resampled\n",
    "from sklearn.metrics import classification_report\n",
    "from sklearn.metrics import confusion_matrix\n",
    "from sklearn.model_selection import train_test_split, StratifiedKFold, cross_validate\n",
    "from sklearn.metrics import confusion_matrix, accuracy_score, precision_score, recall_score, f1_score, roc_auc_score, make_scorer"
   ]
  },
  {
   "cell_type": "code",
   "execution_count": 7,
   "metadata": {},
   "outputs": [
    {
     "data": {
      "text/html": [
       "<div>\n",
       "<style scoped>\n",
       "    .dataframe tbody tr th:only-of-type {\n",
       "        vertical-align: middle;\n",
       "    }\n",
       "\n",
       "    .dataframe tbody tr th {\n",
       "        vertical-align: top;\n",
       "    }\n",
       "\n",
       "    .dataframe thead th {\n",
       "        text-align: right;\n",
       "    }\n",
       "</style>\n",
       "<table border=\"1\" class=\"dataframe\">\n",
       "  <thead>\n",
       "    <tr style=\"text-align: right;\">\n",
       "      <th></th>\n",
       "      <th>0</th>\n",
       "      <th>1</th>\n",
       "      <th>2</th>\n",
       "      <th>3</th>\n",
       "      <th>4</th>\n",
       "      <th>5</th>\n",
       "      <th>6</th>\n",
       "      <th>7</th>\n",
       "      <th>8</th>\n",
       "      <th>9</th>\n",
       "      <th>10</th>\n",
       "      <th>11</th>\n",
       "      <th>12</th>\n",
       "      <th>13</th>\n",
       "      <th>14</th>\n",
       "      <th>15</th>\n",
       "      <th>16</th>\n",
       "      <th>17</th>\n",
       "      <th>18</th>\n",
       "    </tr>\n",
       "  </thead>\n",
       "  <tbody>\n",
       "    <tr>\n",
       "      <th>0</th>\n",
       "      <td>0.0</td>\n",
       "      <td>0.972861</td>\n",
       "      <td>0.653855</td>\n",
       "      <td>1.176225</td>\n",
       "      <td>1.157156</td>\n",
       "      <td>-1.739873</td>\n",
       "      <td>-0.874309</td>\n",
       "      <td>0.567765</td>\n",
       "      <td>-0.175000</td>\n",
       "      <td>0.810061</td>\n",
       "      <td>-0.252552</td>\n",
       "      <td>1.921887</td>\n",
       "      <td>0.889637</td>\n",
       "      <td>0.410772</td>\n",
       "      <td>1.145621</td>\n",
       "      <td>1.932632</td>\n",
       "      <td>0.994464</td>\n",
       "      <td>1.367815</td>\n",
       "      <td>0.040714</td>\n",
       "    </tr>\n",
       "    <tr>\n",
       "      <th>1</th>\n",
       "      <td>1.0</td>\n",
       "      <td>1.667973</td>\n",
       "      <td>0.064191</td>\n",
       "      <td>-1.225171</td>\n",
       "      <td>0.506102</td>\n",
       "      <td>-0.338939</td>\n",
       "      <td>1.672543</td>\n",
       "      <td>3.475464</td>\n",
       "      <td>-1.219136</td>\n",
       "      <td>0.012955</td>\n",
       "      <td>3.775174</td>\n",
       "      <td>1.045977</td>\n",
       "      <td>0.568051</td>\n",
       "      <td>0.481928</td>\n",
       "      <td>0.000000</td>\n",
       "      <td>0.448410</td>\n",
       "      <td>0.205356</td>\n",
       "      <td>1.321893</td>\n",
       "      <td>0.377584</td>\n",
       "    </tr>\n",
       "    <tr>\n",
       "      <th>2</th>\n",
       "      <td>1.0</td>\n",
       "      <td>0.444840</td>\n",
       "      <td>-0.134298</td>\n",
       "      <td>-0.709972</td>\n",
       "      <td>0.451719</td>\n",
       "      <td>-1.613871</td>\n",
       "      <td>-0.768661</td>\n",
       "      <td>1.219918</td>\n",
       "      <td>0.504026</td>\n",
       "      <td>1.831248</td>\n",
       "      <td>-0.431385</td>\n",
       "      <td>0.526283</td>\n",
       "      <td>0.941514</td>\n",
       "      <td>1.587535</td>\n",
       "      <td>2.024308</td>\n",
       "      <td>0.603498</td>\n",
       "      <td>1.562374</td>\n",
       "      <td>1.135454</td>\n",
       "      <td>0.180910</td>\n",
       "    </tr>\n",
       "    <tr>\n",
       "      <th>3</th>\n",
       "      <td>1.0</td>\n",
       "      <td>0.381256</td>\n",
       "      <td>-0.976145</td>\n",
       "      <td>0.693152</td>\n",
       "      <td>0.448959</td>\n",
       "      <td>0.891753</td>\n",
       "      <td>-0.677328</td>\n",
       "      <td>2.033060</td>\n",
       "      <td>1.533041</td>\n",
       "      <td>3.046260</td>\n",
       "      <td>-1.005285</td>\n",
       "      <td>0.569386</td>\n",
       "      <td>1.015211</td>\n",
       "      <td>1.582217</td>\n",
       "      <td>1.551914</td>\n",
       "      <td>0.761215</td>\n",
       "      <td>1.715464</td>\n",
       "      <td>1.492257</td>\n",
       "      <td>0.090719</td>\n",
       "    </tr>\n",
       "    <tr>\n",
       "      <th>4</th>\n",
       "      <td>1.0</td>\n",
       "      <td>1.309996</td>\n",
       "      <td>-0.690089</td>\n",
       "      <td>-0.676259</td>\n",
       "      <td>1.589283</td>\n",
       "      <td>-0.693326</td>\n",
       "      <td>0.622907</td>\n",
       "      <td>1.087562</td>\n",
       "      <td>-0.381742</td>\n",
       "      <td>0.589204</td>\n",
       "      <td>1.365479</td>\n",
       "      <td>1.179295</td>\n",
       "      <td>0.968218</td>\n",
       "      <td>0.728563</td>\n",
       "      <td>0.000000</td>\n",
       "      <td>1.083158</td>\n",
       "      <td>0.043429</td>\n",
       "      <td>1.154854</td>\n",
       "      <td>0.094859</td>\n",
       "    </tr>\n",
       "  </tbody>\n",
       "</table>\n",
       "</div>"
      ],
      "text/plain": [
       "    0         1         2         3         4         5         6         7   \\\n",
       "0  0.0  0.972861  0.653855  1.176225  1.157156 -1.739873 -0.874309  0.567765   \n",
       "1  1.0  1.667973  0.064191 -1.225171  0.506102 -0.338939  1.672543  3.475464   \n",
       "2  1.0  0.444840 -0.134298 -0.709972  0.451719 -1.613871 -0.768661  1.219918   \n",
       "3  1.0  0.381256 -0.976145  0.693152  0.448959  0.891753 -0.677328  2.033060   \n",
       "4  1.0  1.309996 -0.690089 -0.676259  1.589283 -0.693326  0.622907  1.087562   \n",
       "\n",
       "         8         9         10        11        12        13        14  \\\n",
       "0 -0.175000  0.810061 -0.252552  1.921887  0.889637  0.410772  1.145621   \n",
       "1 -1.219136  0.012955  3.775174  1.045977  0.568051  0.481928  0.000000   \n",
       "2  0.504026  1.831248 -0.431385  0.526283  0.941514  1.587535  2.024308   \n",
       "3  1.533041  3.046260 -1.005285  0.569386  1.015211  1.582217  1.551914   \n",
       "4 -0.381742  0.589204  1.365479  1.179295  0.968218  0.728563  0.000000   \n",
       "\n",
       "         15        16        17        18  \n",
       "0  1.932632  0.994464  1.367815  0.040714  \n",
       "1  0.448410  0.205356  1.321893  0.377584  \n",
       "2  0.603498  1.562374  1.135454  0.180910  \n",
       "3  0.761215  1.715464  1.492257  0.090719  \n",
       "4  1.083158  0.043429  1.154854  0.094859  "
      ]
     },
     "execution_count": 7,
     "metadata": {},
     "output_type": "execute_result"
    }
   ],
   "source": [
    "raw_data=pd.read_csv('SUSY.csv',header=None)\n",
    "raw_data.head()"
   ]
  },
  {
   "cell_type": "code",
   "execution_count": 8,
   "metadata": {},
   "outputs": [],
   "source": [
    "x=raw_data.iloc[:,1:]\n",
    "y=raw_data[0]"
   ]
  },
  {
   "cell_type": "code",
   "execution_count": 9,
   "metadata": {},
   "outputs": [
    {
     "data": {
      "text/plain": [
       "(5000000, 18)"
      ]
     },
     "execution_count": 9,
     "metadata": {},
     "output_type": "execute_result"
    }
   ],
   "source": [
    "x.shape"
   ]
  },
  {
   "cell_type": "code",
   "execution_count": 10,
   "metadata": {},
   "outputs": [
    {
     "data": {
      "text/plain": [
       "(5000000,)"
      ]
     },
     "execution_count": 10,
     "metadata": {},
     "output_type": "execute_result"
    }
   ],
   "source": [
    "y.shape"
   ]
  },
  {
   "cell_type": "code",
   "execution_count": 11,
   "metadata": {},
   "outputs": [],
   "source": [
    "x_train, x_test, y_train, y_test = train_test_split( x, y, test_size=0.2, random_state=101, shuffle=True)"
   ]
  },
  {
   "cell_type": "code",
   "execution_count": 12,
   "metadata": {},
   "outputs": [
    {
     "data": {
      "text/plain": [
       "(4000000, 18)"
      ]
     },
     "execution_count": 12,
     "metadata": {},
     "output_type": "execute_result"
    }
   ],
   "source": [
    "x_train.shape"
   ]
  },
  {
   "cell_type": "code",
   "execution_count": 13,
   "metadata": {},
   "outputs": [
    {
     "data": {
      "text/plain": [
       "(1000000, 18)"
      ]
     },
     "execution_count": 13,
     "metadata": {},
     "output_type": "execute_result"
    }
   ],
   "source": [
    "x_test.shape"
   ]
  },
  {
   "cell_type": "code",
   "execution_count": 14,
   "metadata": {},
   "outputs": [
    {
     "data": {
      "text/plain": [
       "(4000000,)"
      ]
     },
     "execution_count": 14,
     "metadata": {},
     "output_type": "execute_result"
    }
   ],
   "source": [
    "y_train.shape"
   ]
  },
  {
   "cell_type": "code",
   "execution_count": 15,
   "metadata": {},
   "outputs": [
    {
     "data": {
      "text/plain": [
       "(1000000,)"
      ]
     },
     "execution_count": 15,
     "metadata": {},
     "output_type": "execute_result"
    }
   ],
   "source": [
    "y_test.shape"
   ]
  },
  {
   "cell_type": "code",
   "execution_count": 16,
   "metadata": {},
   "outputs": [],
   "source": [
    "classifier = DecisionTreeClassifier()"
   ]
  },
  {
   "cell_type": "code",
   "execution_count": 17,
   "metadata": {},
   "outputs": [
    {
     "data": {
      "text/plain": [
       "DecisionTreeClassifier(class_weight=None, criterion='gini', max_depth=None,\n",
       "            max_features=None, max_leaf_nodes=None,\n",
       "            min_impurity_decrease=0.0, min_impurity_split=None,\n",
       "            min_samples_leaf=1, min_samples_split=2,\n",
       "            min_weight_fraction_leaf=0.0, presort=False, random_state=None,\n",
       "            splitter='best')"
      ]
     },
     "execution_count": 17,
     "metadata": {},
     "output_type": "execute_result"
    }
   ],
   "source": [
    "classifier.fit(x_train, y_train)"
   ]
  },
  {
   "cell_type": "code",
   "execution_count": 53,
   "metadata": {},
   "outputs": [
    {
     "data": {
      "text/plain": [
       "0.716332"
      ]
     },
     "execution_count": 53,
     "metadata": {},
     "output_type": "execute_result"
    }
   ],
   "source": [
    "classifier.score(x_test, y_test)"
   ]
  },
  {
   "cell_type": "code",
   "execution_count": 38,
   "metadata": {},
   "outputs": [
    {
     "name": "stdout",
     "output_type": "stream",
     "text": [
      "confusion matrix:\n",
      " [[397787 144312]\n",
      " [139356 318545]]\n"
     ]
    }
   ],
   "source": [
    "print('confusion matrix:\\n',confusion_matrix(y_test,classifier.predict(x_test)))"
   ]
  },
  {
   "cell_type": "code",
   "execution_count": 20,
   "metadata": {},
   "outputs": [],
   "source": [
    "clf = BaggingClassifier(base_estimator=classifier, n_estimators=10, random_state=1)"
   ]
  },
  {
   "cell_type": "code",
   "execution_count": 21,
   "metadata": {},
   "outputs": [
    {
     "data": {
      "text/plain": [
       "BaggingClassifier(base_estimator=DecisionTreeClassifier(class_weight=None, criterion='gini', max_depth=None,\n",
       "            max_features=None, max_leaf_nodes=None,\n",
       "            min_impurity_decrease=0.0, min_impurity_split=None,\n",
       "            min_samples_leaf=1, min_samples_split=2,\n",
       "            min_weight_fraction_leaf=0.0, presort=False, random_state=None,\n",
       "            splitter='best'),\n",
       "         bootstrap=True, bootstrap_features=False, max_features=1.0,\n",
       "         max_samples=1.0, n_estimators=10, n_jobs=None, oob_score=False,\n",
       "         random_state=1, verbose=0, warm_start=False)"
      ]
     },
     "execution_count": 21,
     "metadata": {},
     "output_type": "execute_result"
    }
   ],
   "source": [
    "clf.fit(x_train,y_train) "
   ]
  },
  {
   "cell_type": "code",
   "execution_count": 22,
   "metadata": {},
   "outputs": [
    {
     "data": {
      "text/plain": [
       "0.783823"
      ]
     },
     "execution_count": 22,
     "metadata": {},
     "output_type": "execute_result"
    }
   ],
   "source": [
    "clf.score(x_test, y_test)"
   ]
  },
  {
   "cell_type": "code",
   "execution_count": 39,
   "metadata": {},
   "outputs": [
    {
     "name": "stdout",
     "output_type": "stream",
     "text": [
      "confusion matrix:\n",
      " [[471764  70335]\n",
      " [145842 312059]]\n"
     ]
    }
   ],
   "source": [
    "print('confusion matrix:\\n',confusion_matrix(y_test,clf.predict(x_test)))"
   ]
  },
  {
   "cell_type": "code",
   "execution_count": 23,
   "metadata": {},
   "outputs": [],
   "source": [
    "xnew = raw_data.iloc[:,[1,2,3,4,5,6,7,8,9,12,14,15,16,17]]"
   ]
  },
  {
   "cell_type": "code",
   "execution_count": 24,
   "metadata": {},
   "outputs": [
    {
     "data": {
      "text/plain": [
       "(5000000, 14)"
      ]
     },
     "execution_count": 24,
     "metadata": {},
     "output_type": "execute_result"
    }
   ],
   "source": [
    "xnew.shape"
   ]
  },
  {
   "cell_type": "code",
   "execution_count": 25,
   "metadata": {},
   "outputs": [],
   "source": [
    "x_train1, x_test1, y_train1, y_test1 = train_test_split( xnew, y, test_size=0.2, random_state=101, shuffle=True)"
   ]
  },
  {
   "cell_type": "code",
   "execution_count": 28,
   "metadata": {},
   "outputs": [
    {
     "data": {
      "text/plain": [
       "(4000000, 14)"
      ]
     },
     "execution_count": 28,
     "metadata": {},
     "output_type": "execute_result"
    }
   ],
   "source": [
    "x_train1.shape"
   ]
  },
  {
   "cell_type": "code",
   "execution_count": 27,
   "metadata": {},
   "outputs": [
    {
     "data": {
      "text/plain": [
       "(4000000,)"
      ]
     },
     "execution_count": 27,
     "metadata": {},
     "output_type": "execute_result"
    }
   ],
   "source": [
    "y_train1.shape"
   ]
  },
  {
   "cell_type": "code",
   "execution_count": 31,
   "metadata": {},
   "outputs": [
    {
     "data": {
      "text/plain": [
       "(1000000, 14)"
      ]
     },
     "execution_count": 31,
     "metadata": {},
     "output_type": "execute_result"
    }
   ],
   "source": [
    "x_test1.shape"
   ]
  },
  {
   "cell_type": "code",
   "execution_count": 30,
   "metadata": {},
   "outputs": [
    {
     "data": {
      "text/plain": [
       "(1000000,)"
      ]
     },
     "execution_count": 30,
     "metadata": {},
     "output_type": "execute_result"
    }
   ],
   "source": [
    "y_test1.shape"
   ]
  },
  {
   "cell_type": "code",
   "execution_count": 32,
   "metadata": {},
   "outputs": [],
   "source": [
    "classifier2 = DecisionTreeClassifier()"
   ]
  },
  {
   "cell_type": "code",
   "execution_count": 33,
   "metadata": {},
   "outputs": [
    {
     "data": {
      "text/plain": [
       "DecisionTreeClassifier(class_weight=None, criterion='gini', max_depth=None,\n",
       "            max_features=None, max_leaf_nodes=None,\n",
       "            min_impurity_decrease=0.0, min_impurity_split=None,\n",
       "            min_samples_leaf=1, min_samples_split=2,\n",
       "            min_weight_fraction_leaf=0.0, presort=False, random_state=None,\n",
       "            splitter='best')"
      ]
     },
     "execution_count": 33,
     "metadata": {},
     "output_type": "execute_result"
    }
   ],
   "source": [
    "classifier2.fit(x_train1, y_train1)"
   ]
  },
  {
   "cell_type": "code",
   "execution_count": null,
   "metadata": {},
   "outputs": [],
   "source": [
    "classifier2.score(x_test1, y_test1)"
   ]
  },
  {
   "cell_type": "code",
   "execution_count": 40,
   "metadata": {},
   "outputs": [
    {
     "name": "stdout",
     "output_type": "stream",
     "text": [
      "confusion matrix:\n",
      " [[397407 144692]\n",
      " [140236 317665]]\n"
     ]
    }
   ],
   "source": [
    "print('confusion matrix:\\n',confusion_matrix(y_test1,classifier2.predict(x_test1)))"
   ]
  },
  {
   "cell_type": "code",
   "execution_count": 35,
   "metadata": {},
   "outputs": [],
   "source": [
    "clf2 = BaggingClassifier(base_estimator=classifier2, n_estimators=10, random_state=1)"
   ]
  },
  {
   "cell_type": "code",
   "execution_count": 36,
   "metadata": {},
   "outputs": [
    {
     "data": {
      "text/plain": [
       "BaggingClassifier(base_estimator=DecisionTreeClassifier(class_weight=None, criterion='gini', max_depth=None,\n",
       "            max_features=None, max_leaf_nodes=None,\n",
       "            min_impurity_decrease=0.0, min_impurity_split=None,\n",
       "            min_samples_leaf=1, min_samples_split=2,\n",
       "            min_weight_fraction_leaf=0.0, presort=False, random_state=None,\n",
       "            splitter='best'),\n",
       "         bootstrap=True, bootstrap_features=False, max_features=1.0,\n",
       "         max_samples=1.0, n_estimators=10, n_jobs=None, oob_score=False,\n",
       "         random_state=1, verbose=0, warm_start=False)"
      ]
     },
     "execution_count": 36,
     "metadata": {},
     "output_type": "execute_result"
    }
   ],
   "source": [
    "clf2.fit(x_train1,y_train1) "
   ]
  },
  {
   "cell_type": "code",
   "execution_count": 68,
   "metadata": {},
   "outputs": [
    {
     "data": {
      "text/plain": [
       "0.782896"
      ]
     },
     "execution_count": 68,
     "metadata": {},
     "output_type": "execute_result"
    }
   ],
   "source": [
    "clf2.score(x_test1, y_test1)"
   ]
  },
  {
   "cell_type": "code",
   "execution_count": 41,
   "metadata": {},
   "outputs": [
    {
     "name": "stdout",
     "output_type": "stream",
     "text": [
      "confusion matrix:\n",
      " [[471498  70601]\n",
      " [146503 311398]]\n"
     ]
    }
   ],
   "source": [
    "print('confusion matrix:\\n',confusion_matrix(y_test1,clf2.predict(x_test1)))"
   ]
  },
  {
   "cell_type": "code",
   "execution_count": 44,
   "metadata": {},
   "outputs": [],
   "source": [
    "# Cross Validation based multiple metric evaluation:\n",
    "nfolds = 10\n",
    "def tn(y_true, y_pred): \n",
    "\treturn confusion_matrix(y_true, y_pred)[0, 0]\n",
    "def fp(y_true, y_pred): \n",
    "\treturn confusion_matrix(y_true, y_pred)[0, 1]\n",
    "def fn(y_true, y_pred): \n",
    "\treturn confusion_matrix(y_true, y_pred)[1, 0]\n",
    "def tp(y_true, y_pred): \n",
    "\treturn confusion_matrix(y_true, y_pred)[1, 1]\n",
    "#\n",
    "scoring = {'tp': make_scorer(tp), 'tn': make_scorer(tn),\n",
    "           'fp': make_scorer(fp), 'fn': make_scorer(fn),\n",
    "           'ac' : make_scorer(accuracy_score),\n",
    "           're' : make_scorer(recall_score),\n",
    "           'pr' : make_scorer(precision_score),\n",
    "           'f1' : make_scorer(f1_score),\n",
    "           'auc' : make_scorer(roc_auc_score),\n",
    "          }           "
   ]
  },
  {
   "cell_type": "code",
   "execution_count": null,
   "metadata": {},
   "outputs": [],
   "source": [
    "cv_results = cross_validate(classifier, x_train, y_train, scoring=scoring, cv=StratifiedKFold(n_splits=nfolds, random_state=1))"
   ]
  },
  {
   "cell_type": "code",
   "execution_count": 47,
   "metadata": {},
   "outputs": [
    {
     "name": "stdout",
     "output_type": "stream",
     "text": [
      "Cross Validation scores (nfolds = 10):\n",
      "tp:  [126958 127335 127241 127307 126982 126994 126961 127063 127387 126996] ; mean: 127122.4\n",
      "fn:  [56035 55658 55752 55686 56011 55999 56031 55929 55605 55996] ; mean: 55870.2\n",
      "fp:  [57998 57827 58000 58145 57997 58079 57918 58379 58241 57996] ; mean: 58058.0\n",
      "tn:  [159010 159181 159008 158863 159010 158928 159089 158628 158766 159011] ; mean: 158949.4\n",
      "ac:  [0.71491821 0.71628821 0.71562071 0.71542321 0.71498    0.714805\n",
      " 0.71512679 0.71422929 0.71538429 0.71501929] ; mean: 0.7151794993773264\n",
      "re:  [0.6937861  0.69584629 0.69533261 0.69569328 0.69391725 0.69398283\n",
      " 0.69380629 0.69436369 0.69613426 0.69399755] ; mean: 0.6946860143840385\n",
      "pr:  [0.68642272 0.6876951  0.68689437 0.68646874 0.68646711 0.68618329\n",
      " 0.68672483 0.68518998 0.68624884 0.68649455] ; mean: 0.6864789526641342\n",
      "f1:  [0.69008477 0.69174668 0.69108773 0.69105022 0.69017208 0.69006102\n",
      " 0.6902474  0.68974633 0.6911562  0.69022566] ; mean: 0.6905578101274187\n",
      "auc:  [0.71326203 0.71468612 0.71403068 0.71387692 0.7133293  0.71317315\n",
      " 0.71345584 0.71267236 0.7138756  0.71337175] ; mean: 0.7135733750941531\n"
     ]
    }
   ],
   "source": [
    "# CV scores:\n",
    "print('Cross Validation scores (nfolds = %d):'% nfolds)\n",
    "print('tp: ', cv_results['test_tp'], '; mean:', cv_results['test_tp'].mean())\n",
    "print('fn: ', cv_results['test_fn'], '; mean:', cv_results['test_fn'].mean())\n",
    "print('fp: ', cv_results['test_fp'], '; mean:', cv_results['test_fp'].mean())\n",
    "print('tn: ', cv_results['test_tn'], '; mean:', cv_results['test_tn'].mean())\n",
    "print('ac: ', cv_results['test_ac'], '; mean:', cv_results['test_ac'].mean())\n",
    "print('re: ', cv_results['test_re'], '; mean:', cv_results['test_re'].mean())\n",
    "print('pr: ', cv_results['test_pr'], '; mean:', cv_results['test_pr'].mean())\n",
    "print('f1: ', cv_results['test_f1'], '; mean:', cv_results['test_f1'].mean())\n",
    "print('auc: ', cv_results['test_auc'], '; mean:', cv_results['test_auc'].mean())"
   ]
  },
  {
   "cell_type": "code",
   "execution_count": 83,
   "metadata": {},
   "outputs": [],
   "source": [
    "from scipy.stats import t\n",
    "from scipy import stats\n",
    "import numpy as np"
   ]
  },
  {
   "cell_type": "code",
   "execution_count": 112,
   "metadata": {},
   "outputs": [
    {
     "name": "stdout",
     "output_type": "stream",
     "text": [
      "315.5461309465783 3.8187822792187234e-35 1.7340636066175354\n"
     ]
    }
   ],
   "source": [
    "acc1=[0.71491321, 0.71604321, 0.71537321, 0.71536321, 0.714995 ,  0.7146075,\n",
    " 0.71508679, 0.71481929, 0.71535679, 0.71564179]\n",
    "acc2=[0.78268554, 0.78295054 ,0.78335554, 0.78190805, 0.78303 ,   0.7828875,\n",
    " 0.78276446 ,0.78197195, 0.78348196, 0.78236696]\n",
    "err1=np.subtract(1,acc1)\n",
    "err2=np.subtract(1,acc2)\n",
    "mean_err1,mean_err2=np.mean(err1),np.mean(err2)\n",
    "df=18\n",
    "significance=0.05\n",
    "cv=t.ppf(1.0-significance,df)\n",
    "t_stat, p=stats.ttest_ind(err1,err2,axis=0,equal_var=True)\n",
    "print(t_stat,p,cv)"
   ]
  },
  {
   "cell_type": "code",
   "execution_count": 113,
   "metadata": {},
   "outputs": [
    {
     "name": "stdout",
     "output_type": "stream",
     "text": [
      "reject null hypotheesis that the means are equal\n"
     ]
    }
   ],
   "source": [
    "if abs(t_stat)<=cv:\n",
    "    print('accept null hypothesis that the means are equal')\n",
    "else:\n",
    "    print('reject null hypotheesis that the means are equal')"
   ]
  },
  {
   "cell_type": "code",
   "execution_count": 114,
   "metadata": {},
   "outputs": [
    {
     "name": "stdout",
     "output_type": "stream",
     "text": [
      "reject null hypotheesis that the means are equal\n"
     ]
    }
   ],
   "source": [
    "if p> significance:\n",
    "    print('accept null hypothesis that the means are equal')\n",
    "else:\n",
    "    print('reject null hypotheesis that the means are equal')"
   ]
  },
  {
   "cell_type": "code",
   "execution_count": 123,
   "metadata": {},
   "outputs": [
    {
     "name": "stdout",
     "output_type": "stream",
     "text": [
      "0.28490525 0.21845687600000002\n",
      "197.7969685017485 1.706342592806786e-31 1.7340636066175354\n"
     ]
    }
   ],
   "source": [
    "acc1=[0.71530071, 0.71498071, 0.71520571, 0.71436821, 0.7143175,  0.7164825,\n",
    " 0.71583179, 0.71443179, 0.71467679, 0.71535179]\n",
    "acc2=[0.78064563, 0.78090061, 0.78072362, 0.78210955, 0.78284686,\n",
    "                 0.78098095, 0.7809143,  0.78250422, 0.78185925, 0.78194625]\n",
    "err1=np.subtract(1,acc1)\n",
    "err2=np.subtract(1,acc2)\n",
    "mean_err1,mean_err2=np.mean(err1),np.mean(err2)\n",
    "print(mean_err1,mean_err2)\n",
    "df=18\n",
    "significance=0.05\n",
    "cv=t.ppf(1.0-significance,df)\n",
    "t_stat, q=stats.ttest_ind(err1,err2,axis=0,equal_var=True)\n",
    "print(t_stat,q,cv)"
   ]
  },
  {
   "cell_type": "code",
   "execution_count": 97,
   "metadata": {},
   "outputs": [
    {
     "name": "stdout",
     "output_type": "stream",
     "text": [
      "reject null hypotheesis that the means are equal 197.7969685017485\n"
     ]
    }
   ],
   "source": [
    "if abs(t_stat)<=cv:\n",
    "    print('accept null hypothesis that the means are equal')\n",
    "else:\n",
    "    print('reject null hypotheesis that the means are equal')"
   ]
  },
  {
   "cell_type": "code",
   "execution_count": 98,
   "metadata": {},
   "outputs": [
    {
     "name": "stdout",
     "output_type": "stream",
     "text": [
      "reject null hypotheesis that the means are equal 1.706342592806786e-31\n"
     ]
    }
   ],
   "source": [
    "if q> significance:\n",
    "    print('accept null hypothesis that the means are equal')\n",
    "else:\n",
    "    print('reject null hypotheesis that the means are equal')"
   ]
  },
  {
   "cell_type": "code",
   "execution_count": 122,
   "metadata": {},
   "outputs": [
    {
     "name": "stdout",
     "output_type": "stream",
     "text": [
      "0.28478000000000003 0.28490525\n",
      "-0.4864894391960799 0.6324906259069649 1.7340636066175354\n"
     ]
    }
   ],
   "source": [
    "acc1=[0.71491321, 0.71604321, 0.71537321, 0.71536321, 0.714995 ,  0.7146075,\n",
    " 0.71508679, 0.71481929, 0.71535679, 0.71564179]\n",
    "acc2=[0.71530071, 0.71498071, 0.71520571, 0.71436821, 0.7143175,  0.7164825,\n",
    " 0.71583179, 0.71443179, 0.71467679, 0.71535179]\n",
    "err1=np.subtract(1,acc1)\n",
    "err2=np.subtract(1,acc2)\n",
    "mean_err1,mean_err2=np.mean(err1),np.mean(err2)\n",
    "print(mean_err1,mean_err2)\n",
    "df=18\n",
    "significance=0.05\n",
    "cv=t.ppf(1.0-significance,df)\n",
    "t_stat, r=stats.ttest_ind(err1,err2,axis=0,equal_var=True)\n",
    "print(t_stat,r,cv)"
   ]
  },
  {
   "cell_type": "code",
   "execution_count": 116,
   "metadata": {},
   "outputs": [
    {
     "name": "stdout",
     "output_type": "stream",
     "text": [
      "accept null hypothesis that the means are equal\n"
     ]
    }
   ],
   "source": [
    "if abs(t_stat)<=cv:\n",
    "    print('accept null hypothesis that the means are equal')\n",
    "else:\n",
    "    print('reject null hypotheesis that the means are equal')"
   ]
  },
  {
   "cell_type": "code",
   "execution_count": 117,
   "metadata": {},
   "outputs": [
    {
     "name": "stdout",
     "output_type": "stream",
     "text": [
      "accept null hypothesis that the means are equal\n"
     ]
    }
   ],
   "source": [
    "if r> significance:\n",
    "    print('accept null hypothesis that the means are equal')\n",
    "else:\n",
    "    print('reject null hypotheesis that the means are equal')"
   ]
  },
  {
   "cell_type": "code",
   "execution_count": 118,
   "metadata": {},
   "outputs": [
    {
     "name": "stdout",
     "output_type": "stream",
     "text": [
      "-3.9391022059736747 0.0009618508540242365 1.7340636066175354\n"
     ]
    }
   ],
   "source": [
    "acc1=[0.78268554, 0.78295054 ,0.78335554, 0.78190805, 0.78303 ,   0.7828875,\n",
    " 0.78276446 ,0.78197195, 0.78348196, 0.78236696]\n",
    "acc2=[0.78064563, 0.78090061, 0.78072362, 0.78210955, 0.78284686,\n",
    "                 0.78098095, 0.7809143,  0.78250422, 0.78185925, 0.78194625]\n",
    "err1=np.subtract(1,acc1)\n",
    "err2=np.subtract(1,acc2)\n",
    "mean_err1,mean_err2=np.mean(err1),np.mean(err2)\n",
    "df=18\n",
    "significance=0.05\n",
    "cv=t.ppf(1.0-significance,df)\n",
    "t_stat, s=stats.ttest_ind(err1,err2,axis=0,equal_var=True)\n",
    "print(t_stat,s,cv)"
   ]
  },
  {
   "cell_type": "code",
   "execution_count": 119,
   "metadata": {},
   "outputs": [
    {
     "name": "stdout",
     "output_type": "stream",
     "text": [
      "reject null hypotheesis that the means are equal\n"
     ]
    }
   ],
   "source": [
    "if abs(t_stat)<=cv:\n",
    "    print('accept null hypothesis that the means are equal')\n",
    "else:\n",
    "    print('reject null hypotheesis that the means are equal')"
   ]
  },
  {
   "cell_type": "code",
   "execution_count": 120,
   "metadata": {},
   "outputs": [
    {
     "name": "stdout",
     "output_type": "stream",
     "text": [
      "reject null hypotheesis that the means are equal\n"
     ]
    }
   ],
   "source": [
    "if s> significance:\n",
    "    print('accept null hypothesis that the means are equal')\n",
    "else:\n",
    "    print('reject null hypotheesis that the means are equal')"
   ]
  },
  {
   "cell_type": "code",
   "execution_count": null,
   "metadata": {},
   "outputs": [],
   "source": []
  }
 ],
 "metadata": {
  "kernelspec": {
   "display_name": "Python 3",
   "language": "python",
   "name": "python3"
  }
 },
 "nbformat": 4,
 "nbformat_minor": 2
}
